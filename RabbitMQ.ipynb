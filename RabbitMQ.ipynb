{
 "cells": [
  {
   "cell_type": "code",
   "execution_count": 1,
   "id": "3d1c2787",
   "metadata": {},
   "outputs": [
    {
     "name": "stdout",
     "output_type": "stream",
     "text": [
      "Collecting pika\n",
      "  Obtaining dependency information for pika from https://files.pythonhosted.org/packages/f9/f3/f412836ec714d36f0f4ab581b84c491e3f42c6b5b97a6c6ed1817f3c16d0/pika-1.3.2-py3-none-any.whl.metadata\n",
      "  Downloading pika-1.3.2-py3-none-any.whl.metadata (13 kB)\n",
      "Downloading pika-1.3.2-py3-none-any.whl (155 kB)\n",
      "   ---------------------------------------- 0.0/155.4 kB ? eta -:--:--\n",
      "   ---------------------------------------- 155.4/155.4 kB 9.1 MB/s eta 0:00:00\n",
      "Installing collected packages: pika\n",
      "Successfully installed pika-1.3.2\n"
     ]
    }
   ],
   "source": [
    "!pip install pika"
   ]
  },
  {
   "cell_type": "code",
   "execution_count": 2,
   "id": "cf6c0968",
   "metadata": {},
   "outputs": [
    {
     "ename": "AMQPConnectionError",
     "evalue": "",
     "output_type": "error",
     "traceback": [
      "\u001b[1;31m---------------------------------------------------------------------------\u001b[0m",
      "\u001b[1;31mAMQPConnectionError\u001b[0m                       Traceback (most recent call last)",
      "Cell \u001b[1;32mIn[2], line 2\u001b[0m\n\u001b[0;32m      1\u001b[0m \u001b[38;5;28;01mimport\u001b[39;00m \u001b[38;5;21;01mpika\u001b[39;00m\n\u001b[1;32m----> 2\u001b[0m connection \u001b[38;5;241m=\u001b[39m pika\u001b[38;5;241m.\u001b[39mBlockingConnection(pika\u001b[38;5;241m.\u001b[39mConnectionParameters(\u001b[38;5;124m'\u001b[39m\u001b[38;5;124mlocalhost\u001b[39m\u001b[38;5;124m'\u001b[39m))\n\u001b[0;32m      3\u001b[0m channel \u001b[38;5;241m=\u001b[39m connection\u001b[38;5;241m.\u001b[39mchannel()\n",
      "File \u001b[1;32m~\\anaconda3\\Lib\\site-packages\\pika\\adapters\\blocking_connection.py:360\u001b[0m, in \u001b[0;36mBlockingConnection.__init__\u001b[1;34m(self, parameters, _impl_class)\u001b[0m\n\u001b[0;32m    358\u001b[0m \u001b[38;5;66;03m# Perform connection workflow\u001b[39;00m\n\u001b[0;32m    359\u001b[0m \u001b[38;5;28mself\u001b[39m\u001b[38;5;241m.\u001b[39m_impl \u001b[38;5;241m=\u001b[39m \u001b[38;5;28;01mNone\u001b[39;00m  \u001b[38;5;66;03m# so that attribute is created in case below raises\u001b[39;00m\n\u001b[1;32m--> 360\u001b[0m \u001b[38;5;28mself\u001b[39m\u001b[38;5;241m.\u001b[39m_impl \u001b[38;5;241m=\u001b[39m \u001b[38;5;28mself\u001b[39m\u001b[38;5;241m.\u001b[39m_create_connection(parameters, _impl_class)\n\u001b[0;32m    361\u001b[0m \u001b[38;5;28mself\u001b[39m\u001b[38;5;241m.\u001b[39m_impl\u001b[38;5;241m.\u001b[39madd_on_close_callback(\u001b[38;5;28mself\u001b[39m\u001b[38;5;241m.\u001b[39m_closed_result\u001b[38;5;241m.\u001b[39mset_value_once)\n",
      "File \u001b[1;32m~\\anaconda3\\Lib\\site-packages\\pika\\adapters\\blocking_connection.py:451\u001b[0m, in \u001b[0;36mBlockingConnection._create_connection\u001b[1;34m(self, configs, impl_class)\u001b[0m\n\u001b[0;32m    449\u001b[0m     error \u001b[38;5;241m=\u001b[39m on_cw_done_result\u001b[38;5;241m.\u001b[39mvalue\u001b[38;5;241m.\u001b[39mresult\n\u001b[0;32m    450\u001b[0m     LOGGER\u001b[38;5;241m.\u001b[39merror(\u001b[38;5;124m'\u001b[39m\u001b[38;5;124mConnection workflow failed: \u001b[39m\u001b[38;5;132;01m%r\u001b[39;00m\u001b[38;5;124m'\u001b[39m, error)\n\u001b[1;32m--> 451\u001b[0m     \u001b[38;5;28;01mraise\u001b[39;00m \u001b[38;5;28mself\u001b[39m\u001b[38;5;241m.\u001b[39m_reap_last_connection_workflow_error(error)\n\u001b[0;32m    452\u001b[0m \u001b[38;5;28;01melse\u001b[39;00m:\n\u001b[0;32m    453\u001b[0m     LOGGER\u001b[38;5;241m.\u001b[39minfo(\u001b[38;5;124m'\u001b[39m\u001b[38;5;124mConnection workflow succeeded: \u001b[39m\u001b[38;5;132;01m%r\u001b[39;00m\u001b[38;5;124m'\u001b[39m,\n\u001b[0;32m    454\u001b[0m                 on_cw_done_result\u001b[38;5;241m.\u001b[39mvalue\u001b[38;5;241m.\u001b[39mresult)\n",
      "\u001b[1;31mAMQPConnectionError\u001b[0m: "
     ]
    }
   ],
   "source": [
    "import pika\n",
    "connection = pika.BlockingConnection(pika.ConnectionParameters('localhost'))\n",
    "channel = connection.channel()"
   ]
  },
  {
   "cell_type": "code",
   "execution_count": null,
   "id": "e11f5f68",
   "metadata": {},
   "outputs": [],
   "source": []
  }
 ],
 "metadata": {
  "kernelspec": {
   "display_name": "Python 3 (ipykernel)",
   "language": "python",
   "name": "python3"
  },
  "language_info": {
   "codemirror_mode": {
    "name": "ipython",
    "version": 3
   },
   "file_extension": ".py",
   "mimetype": "text/x-python",
   "name": "python",
   "nbconvert_exporter": "python",
   "pygments_lexer": "ipython3",
   "version": "3.11.5"
  }
 },
 "nbformat": 4,
 "nbformat_minor": 5
}
